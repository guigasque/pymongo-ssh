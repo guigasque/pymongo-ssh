{
 "cells": [
  {
   "cell_type": "markdown",
   "metadata": {},
   "source": []
  },
  {
   "cell_type": "code",
   "execution_count": 1,
   "metadata": {},
   "outputs": [],
   "source": [
    "import json\n",
    "import pymongo\n",
    "import paramiko\n",
    "import sshtunnel\n",
    "import pandas as pd\n",
    "\n",
    "from pymongo import MongoClient\n",
    "from sshtunnel import SSHTunnelForwarder"
   ]
  },
  {
   "cell_type": "code",
   "execution_count": 31,
   "metadata": {},
   "outputs": [],
   "source": [
    "# ssh variables\n",
    "ssh_port_ = 22\n",
    "host_ = '35.173.24.74'\n",
    "ssh_username_ = 'ec2-user'\n",
    "pk = paramiko.RSAKey.from_private_key_file('C:\\\\Users\\\\Guilherme A. Gasque\\\\bright_cities\\\\ambiente_dados\\\\0_documentacao\\\\bright-server.pem')"
   ]
  },
  {
   "cell_type": "code",
   "execution_count": 32,
   "metadata": {},
   "outputs": [],
   "source": [
    "# database variables\n",
    "port_ = 27017\n",
    "localhost_ = '127.0.0.1'\n",
    "user_='gsc-tool-prd'\n",
    "password_='gsc-pwd-prd'\n",
    "database_='gsc-db'"
   ]
  },
  {
   "cell_type": "code",
   "execution_count": 39,
   "metadata": {},
   "outputs": [
    {
     "data": {
      "text/plain": [
       "' Setup Tunnel '"
      ]
     },
     "execution_count": 39,
     "metadata": {},
     "output_type": "execute_result"
    },
    {
     "data": {
      "text/plain": [
       "' Open tunnel '"
      ]
     },
     "execution_count": 39,
     "metadata": {},
     "output_type": "execute_result"
    },
    {
     "data": {
      "text/plain": [
       "' Connection to MongoDB through SSH Tunnel '"
      ]
     },
     "execution_count": 39,
     "metadata": {},
     "output_type": "execute_result"
    },
    {
     "data": {
      "text/plain": [
       "' Authentication '"
      ]
     },
     "execution_count": 39,
     "metadata": {},
     "output_type": "execute_result"
    },
    {
     "data": {
      "text/plain": [
       "' Success '"
      ]
     },
     "execution_count": 39,
     "metadata": {},
     "output_type": "execute_result"
    },
    {
     "data": {
      "text/plain": [
       "True"
      ]
     },
     "execution_count": 39,
     "metadata": {},
     "output_type": "execute_result"
    },
    {
     "data": {
      "text/plain": [
       "['gsc-db']"
      ]
     },
     "execution_count": 39,
     "metadata": {},
     "output_type": "execute_result"
    }
   ],
   "source": [
    "try:\n",
    "\n",
    "    \n",
    "    ''' Setup Tunnel '''\n",
    "    server = SSHTunnelForwarder(host_,\n",
    "                                ssh_username=ssh_username_,\n",
    "                                ssh_pkey=pk,\n",
    "                                remote_bind_address=('127.0.0.1', 27017))\n",
    "\n",
    "    ''' Open tunnel '''\n",
    "    server.start()\n",
    "    \n",
    "    ''' Connection to MongoDB through SSH Tunnel '''\n",
    "    client = pymongo.MongoClient('127.0.0.1', server.local_bind_port, connect=True) # server.local_bind_port is assigned local port\n",
    "    \n",
    "    ''' Authentication '''\n",
    "    db = client[database_]\n",
    "    \n",
    "    ''' Success '''\n",
    "    db.authenticate(user_, password_, mechanism='SCRAM-SHA-256')\n",
    "\n",
    "    \n",
    "    client.database_names()\n",
    "    \n",
    "except:\n",
    "    print('Revisar parâmetros')\n",
    "    \n",
    "finally:\n",
    "    db.logout()\n",
    "    client.close()\n",
    "    server.stop()"
   ]
  }
 ],
 "metadata": {
  "kernelspec": {
   "display_name": "Python 3",
   "language": "python",
   "name": "python3"
  },
  "language_info": {
   "codemirror_mode": {
    "name": "ipython",
    "version": 3
   },
   "file_extension": ".py",
   "mimetype": "text/x-python",
   "name": "python",
   "nbconvert_exporter": "python",
   "pygments_lexer": "ipython3",
   "version": "3.7.3"
  }
 },
 "nbformat": 4,
 "nbformat_minor": 2
}
