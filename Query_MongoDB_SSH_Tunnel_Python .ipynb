{
 "cells": [
  {
   "cell_type": "markdown",
   "metadata": {},
   "source": []
  },
  {
   "cell_type": "code",
   "execution_count": 1,
   "metadata": {},
   "outputs": [],
   "source": [
    "import json\n",
    "import pymongo\n",
    "import paramiko\n",
    "import sshtunnel\n",
    "import pandas as pd\n",
    "\n",
    "from pymongo import MongoClient\n",
    "from sshtunnel import SSHTunnelForwarder"
   ]
  },
  {
   "cell_type": "markdown",
   "metadata": {},
   "source": [
    "### SSH variables"
   ]
  },
  {
   "cell_type": "code",
   "execution_count": 2,
   "metadata": {},
   "outputs": [],
   "source": [
    "ssh_port_ = 22 # 22 by default, chang if applied\n",
    "host_ = '00.000.00.00' # input ssh host address\n",
    "ssh_username_ = 'ssh-user' # input ssh username\n",
    "\n",
    "# Insert PEM key directory\n",
    "pk = paramiko.RSAKey.from_private_key_file('path/key.pem')"
   ]
  },
  {
   "cell_type": "markdown",
   "metadata": {},
   "source": [
    "### MongoDB database variables"
   ]
  },
  {
   "cell_type": "code",
   "execution_count": 3,
   "metadata": {},
   "outputs": [],
   "source": [
    "port_ = 27017 # 27017 by default, chang if applied\n",
    "localhost_ = '127.0.0.1' # 127.0.0.1 by default, chang if applied\n",
    "user_= 'db-user' # MongoDB database username\n",
    "password_= ********** # MongoDB database password\n",
    "database_= 'db-name'# MongoDB database name"
   ]
  },
  {
   "cell_type": "markdown",
   "metadata": {},
   "source": [
    "### "
   ]
  },
  {
   "cell_type": "code",
   "execution_count": 4,
   "metadata": {},
   "outputs": [
    {
     "data": {
      "text/plain": [
       "' Setup Tunnel '"
      ]
     },
     "execution_count": 4,
     "metadata": {},
     "output_type": "execute_result"
    },
    {
     "data": {
      "text/plain": [
       "' Open tunnel '"
      ]
     },
     "execution_count": 4,
     "metadata": {},
     "output_type": "execute_result"
    },
    {
     "data": {
      "text/plain": [
       "' Connection to MongoDB through SSH Tunnel '"
      ]
     },
     "execution_count": 4,
     "metadata": {},
     "output_type": "execute_result"
    },
    {
     "data": {
      "text/plain": [
       "' Authentication '"
      ]
     },
     "execution_count": 4,
     "metadata": {},
     "output_type": "execute_result"
    },
    {
     "data": {
      "text/plain": [
       "' Success '"
      ]
     },
     "execution_count": 4,
     "metadata": {},
     "output_type": "execute_result"
    },
    {
     "data": {
      "text/plain": [
       "True"
      ]
     },
     "execution_count": 4,
     "metadata": {},
     "output_type": "execute_result"
    },
    {
     "data": {
      "text/plain": [
       "['gsc-db']"
      ]
     },
     "execution_count": 4,
     "metadata": {},
     "output_type": "execute_result"
    }
   ],
   "source": [
    "try:\n",
    "\n",
    "    \n",
    "    ''' Setup Tunnel '''\n",
    "    server = SSHTunnelForwarder(host_,\n",
    "                                ssh_username=ssh_username_,\n",
    "                                ssh_pkey=pk,\n",
    "                                remote_bind_address=('127.0.0.1', 27017))\n",
    "\n",
    "    ''' Open tunnel '''\n",
    "    server.start()\n",
    "    \n",
    "    ''' Connection to MongoDB through SSH Tunnel '''\n",
    "    # server.local_bind_port is assigned local port\n",
    "    client = pymongo.MongoClient('127.0.0.1', server.local_bind_port, connect=True) \n",
    "    \n",
    "    ''' Authentication '''\n",
    "    db = client[database_]\n",
    "    \n",
    "    ''' Success '''\n",
    "    db.authenticate(user_, password_, mechanism='SCRAM-SHA-256')\n",
    "\n",
    "    \n",
    "    client.database_names()\n",
    "    \n",
    "    # ''' Query '''\n",
    "    \n",
    "except:\n",
    "    print('Review parameters')\n",
    "    \n",
    "finally:\n",
    "    db.logout()\n",
    "    client.close()\n",
    "    server.stop()"
   ]
  }
 ],
 "metadata": {
  "kernelspec": {
   "display_name": "Python 3",
   "language": "python",
   "name": "python3"
  },
  "language_info": {
   "codemirror_mode": {
    "name": "ipython",
    "version": 3
   },
   "file_extension": ".py",
   "mimetype": "text/x-python",
   "name": "python",
   "nbconvert_exporter": "python",
   "pygments_lexer": "ipython3",
   "version": "3.7.3"
  }
 },
 "nbformat": 4,
 "nbformat_minor": 2
}
